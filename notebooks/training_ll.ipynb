{
 "cells": [
  {
   "cell_type": "code",
   "execution_count": 0,
   "metadata": {
    "colab": {},
    "colab_type": "code",
    "id": "cKtZctcXJTAZ"
   },
   "outputs": [],
   "source": [
    "import json\n",
    "import os\n",
    "import sys\n",
    "import tensorflow as tf"
   ]
  },
  {
   "cell_type": "code",
   "execution_count": 2,
   "metadata": {
    "colab": {
     "base_uri": "https://localhost:8080/",
     "height": 119
    },
    "colab_type": "code",
    "id": "LNgr17uD0K--",
    "outputId": "dc2b6d1b-fa7d-481d-c5ef-887876f6c27a"
   },
   "outputs": [
    {
     "name": "stdout",
     "output_type": "stream",
     "text": [
      "Cloning into 'rxrx1-utils'...\n",
      "remote: Enumerating objects: 99, done.\u001b[K\n",
      "remote: Counting objects: 100% (99/99), done.\u001b[K\n",
      "remote: Compressing objects: 100% (53/53), done.\u001b[K\n",
      "remote: Total 99 (delta 48), reused 92 (delta 42), pack-reused 0\u001b[K\n",
      "Unpacking objects: 100% (99/99), done.\n"
     ]
    }
   ],
   "source": [
    "if 'google.colab' in sys.modules:\n",
    "    !git clone https://github.com/leighlin0511/ll_utils\n",
    "    sys.path.append('/content/ll_utils')\n",
    "    \n",
    "    from google.colab import auth\n",
    "    auth.authenticate_user()    \n",
    "\n",
    "import ll_cellular.mail_ll as mail_ll"
   ]
  },
  {
   "cell_type": "markdown",
   "metadata": {
    "colab_type": "text",
    "id": "HrPeVFofzIdy"
   },
   "source": [
    "## Train\n",
    "\n",
    "Set `MODEL_DIR` to be a Google Cloud Storage bucket that you can write to.   The code will write your checkpoins to this directory."
   ]
  },
  {
   "cell_type": "code",
   "execution_count": 1,
   "metadata": {
    "colab": {
     "base_uri": "https://localhost:8080/",
     "height": 1000
    },
    "colab_type": "code",
    "id": "Z9MjRJpwJTAw",
    "outputId": "44655cb7-37c9-4a20-a689-6cda882224ba"
   },
   "outputs": [
    {
     "ename": "NameError",
     "evalue": "name 'os' is not defined",
     "output_type": "error",
     "traceback": [
      "\u001b[1;31m---------------------------------------------------------------------------\u001b[0m",
      "\u001b[1;31mNameError\u001b[0m                                 Traceback (most recent call last)",
      "\u001b[1;32m<ipython-input-1-3b33e6b25282>\u001b[0m in \u001b[0;36m<module>\u001b[1;34m\u001b[0m\n\u001b[0;32m      3\u001b[0m \u001b[1;33m\u001b[0m\u001b[0m\n\u001b[0;32m      4\u001b[0m \u001b[1;31m# make sure we're in a TPU runtime\u001b[0m\u001b[1;33m\u001b[0m\u001b[1;33m\u001b[0m\u001b[1;33m\u001b[0m\u001b[0m\n\u001b[1;32m----> 5\u001b[1;33m \u001b[1;32massert\u001b[0m \u001b[1;34m'COLAB_TPU_ADDR'\u001b[0m \u001b[1;32min\u001b[0m \u001b[0mos\u001b[0m\u001b[1;33m.\u001b[0m\u001b[0menviron\u001b[0m\u001b[1;33m\u001b[0m\u001b[1;33m\u001b[0m\u001b[0m\n\u001b[0m\u001b[0;32m      6\u001b[0m \u001b[1;33m\u001b[0m\u001b[0m\n\u001b[0;32m      7\u001b[0m \u001b[1;31m# set TPU-relevant args\u001b[0m\u001b[1;33m\u001b[0m\u001b[1;33m\u001b[0m\u001b[1;33m\u001b[0m\u001b[0m\n",
      "\u001b[1;31mNameError\u001b[0m: name 'os' is not defined"
     ]
    }
   ],
   "source": [
    "MODEL_DIR = 'gs://kaggle-recursive-cell-image-storage/saved_model/1562302335'\n",
    "URL_BASE_PATH = 'gs://rxrx1-us-central1/tfrecords/random-42'\n",
    "\n",
    "# make sure we're in a TPU runtime\n",
    "assert 'COLAB_TPU_ADDR' in os.environ\n",
    "\n",
    "# set TPU-relevant args\n",
    "tpu_grpc = 'grpc://{}'.format(os.environ['COLAB_TPU_ADDR'])\n",
    "num_shards = 8  # colab uses Cloud TPU v2-8\n",
    "\n",
    "# upload credentials to the TPU\n",
    "with tf.Session(tpu_grpc) as sess:\n",
    "    data = json.load(open('/content/adc.json'))\n",
    "    tf.contrib.cloud.configure_gcs(sess, credentials=data)\n",
    "\n",
    "tf.logging.set_verbosity(tf.logging.INFO)\n",
    "\n",
    "main_ll(use_tpu=True,\n",
    "     tpu=tpu_grpc,\n",
    "     gcp_project=None,\n",
    "     tpu_zone=None,\n",
    "     url_base_path=URL_BASE_PATH,\n",
    "     use_cache=False,\n",
    "     model_dir=MODEL_DIR,\n",
    "     train_epochs=1,\n",
    "     train_batch_size=512,\n",
    "     num_train_images=73030,\n",
    "     epochs_per_loop=1,\n",
    "     log_step_count_epochs=1,\n",
    "     num_cores=num_shards,\n",
    "     data_format='channels_last',\n",
    "     transpose_input=True,\n",
    "     tf_precision='bfloat16',\n",
    "     n_classes=1108,\n",
    "     momentum=0.9,\n",
    "     weight_decay=1e-4,\n",
    "     base_learning_rate=0.2,\n",
    "     warmup_epochs=5)"
   ]
  },
  {
   "cell_type": "code",
   "execution_count": null,
   "metadata": {},
   "outputs": [],
   "source": []
  }
 ],
 "metadata": {
  "accelerator": "TPU",
  "colab": {
   "collapsed_sections": [],
   "name": "training.ipynb",
   "provenance": [],
   "version": "0.3.2"
  },
  "kernelspec": {
   "display_name": "Python 3",
   "language": "python",
   "name": "python3"
  },
  "language_info": {
   "codemirror_mode": {
    "name": "ipython",
    "version": 3
   },
   "file_extension": ".py",
   "mimetype": "text/x-python",
   "name": "python",
   "nbconvert_exporter": "python",
   "pygments_lexer": "ipython3",
   "version": "3.6.7"
  }
 },
 "nbformat": 4,
 "nbformat_minor": 1
}
